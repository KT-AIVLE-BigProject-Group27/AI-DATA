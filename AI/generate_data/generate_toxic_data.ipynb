{
 "cells": [
  {
   "cell_type": "code",
   "execution_count": 40,
   "metadata": {
    "colab": {
     "base_uri": "https://localhost:8080/"
    },
    "executionInfo": {
     "elapsed": 2258,
     "status": "ok",
     "timestamp": 1738569450115,
     "user": {
      "displayName": "오진석",
      "userId": "15711716449919729916"
     },
     "user_tz": -540
    },
    "id": "VCsX6BEvjKVB",
    "outputId": "9f49f44b-6c77-471e-8a32-2ac7498747d3"
   },
   "outputs": [
    {
     "name": "stdout",
     "output_type": "stream",
     "text": [
      "Drive already mounted at /content/drive; to attempt to forcibly remount, call drive.mount(\"/content/drive\", force_remount=True).\n"
     ]
    }
   ],
   "source": [
    "from google.colab import drive\n",
    "drive.mount('/content/drive')"
   ]
  },
  {
   "cell_type": "code",
   "execution_count": 41,
   "metadata": {
    "executionInfo": {
     "elapsed": 3,
     "status": "ok",
     "timestamp": 1738569450115,
     "user": {
      "displayName": "오진석",
      "userId": "15711716449919729916"
     },
     "user_tz": -540
    },
    "id": "7DcETjB7jKLr"
   },
   "outputs": [],
   "source": [
    "import os\n",
    "import pandas as pd\n",
    "import re\n",
    "import random\n",
    "import numpy as np\n",
    "import torch"
   ]
  },
  {
   "cell_type": "code",
   "execution_count": 4,
   "metadata": {
    "executionInfo": {
     "elapsed": 3,
     "status": "ok",
     "timestamp": 1738556133642,
     "user": {
      "displayName": "오진석",
      "userId": "15711716449919729916"
     },
     "user_tz": -540
    },
    "id": "hFOseFCjjYkr"
   },
   "outputs": [],
   "source": [
    "path = '/content/drive/MyDrive/생성데이터/'"
   ]
  },
  {
   "cell_type": "code",
   "execution_count": 42,
   "metadata": {
    "executionInfo": {
     "elapsed": 284,
     "status": "ok",
     "timestamp": 1738569450396,
     "user": {
      "displayName": "오진석",
      "userId": "15711716449919729916"
     },
     "user_tz": -540
    },
    "id": "kH9KeG-oAHgd"
   },
   "outputs": [],
   "source": [
    "import openai\n",
    "from openai import OpenAI\n",
    "\n",
    "# Google Drive에 저장된 API 키 파일 경로\n",
    "api_key_path = '/content/drive/MyDrive/openAI-key.txt'\n",
    "\n",
    "# 파일에서 API 키 읽기\n",
    "with open(api_key_path, 'r') as file:\n",
    "    api_key = file.read().strip()\n",
    "\n",
    "# 환경 변수로 설정\n",
    "os.environ['OPENAI_API_KEY'] = api_key\n",
    "client = OpenAI()"
   ]
  },
  {
   "cell_type": "code",
   "execution_count": 43,
   "metadata": {
    "executionInfo": {
     "elapsed": 2,
     "status": "ok",
     "timestamp": 1738569450396,
     "user": {
      "displayName": "오진석",
      "userId": "15711716449919729916"
     },
     "user_tz": -540
    },
    "id": "K6nQceyZ_Y-e"
   },
   "outputs": [],
   "source": [
    "# 문장 생성 함수\n",
    "def generate_response(sentence):\n",
    "\n",
    "# 메시지 준비\n",
    "  messages = [\n",
    "        {\"role\": \"system\", \"content\": \"당신은 거래 계약서를 작성하는 꼼꼼한 어시스턴트입니다.\"},\n",
    "        {\"role\": \"user\", \"content\": f\"\"\"\n",
    "다음 문장을 참고해서, 법에 걸리지는 않지만, 을이 반드시 피해를 보게끔 문장을 수정해주세요.\n",
    "문장의 원래 형식, 원래 내용은 유지합니다.\n",
    "반드시 다음의 규칙을 지켜주세요.\n",
    "- 생성한 근거, 설명, 결과에 대한 해석 등은 작성하지 않습니다.\n",
    "- 문장 내부에 **, **결과**, **문장** 을 쓰지 마세요.\n",
    "- 원본의 내용을 살짝만 바꿉니다. 물론 여기도 근거, 생성 결과, 해석, 설명은 넣지 않습니다.\n",
    "- 아주 교묘하게 상대방을 속이는 겁니다. 당사자 중 한쪽이 알게 모르게 피해를 보는 문장을 생성합니다.\n",
    "- 단, 법률에 어긋나는 정도는 안됩니다. 비율, 수수료, 책임을 법률에 저촉되지 않을 정도로 한쪽에 부담시킵니다.\n",
    "- '특정 조건 하에' 이라는 문구는 생성하지 말고, 그에 준하는 내용을 문장 내부에 작성하도록 합니다.\n",
    "- 행위의 결과를 작성하지 마세요. 결과적으로 어떻게 되었다는 쓰지 않습니다.\n",
    "- 예상 결과를 작성하지 마세요. 그 결과 ~~, 이 과정에서 ~~ 는 작성하지 마세요.\n",
    "- 생성한 결과의 예상, 결과 등등을 모두 작성하지 않도록 합니다.\n",
    "- 교묘하게 특정 당사자에게 불리하게 만드세요. 모두가 불리하게 만들지 마세요.\n",
    "- 갑 과 을 중 틀림없이 누군가는 불리한 상황에 놓입니다. 불리한 상황을 유도하되, 불리한 상황 그 자체를 묘사하지 마세요.\n",
    "- 발생할 수 있는 상황을 묘사하지 마세요.\n",
    "- 을에게 당사자에게 무조건 불리하게 작용해야합니다. 마찬가지로, 법률을 어기지 않는 선에서 불리하게 작용할 수 있는 내용을 작성합니다.\n",
    "- 가능성을 제시하지 마세요. 결과적으로 나타난 상황을 작성하지 마세요.\n",
    "- 계약의 결과로 나타난 행동, 예상 결과는 생성하지 말고, 지시하는 것만 작성하세요.\n",
    "- 특히, 문장 처음 5자는 변화를 주지마세요.\n",
    "- 갑의 입장에서 을의 이익까지 독식할 수 있게 작성하세요.\n",
    "- 문장을 깔끔하게 구성합니다. **문장**이나 뚝뚝 끊어질 수 있는 설명은 배제하고, 원본에 나온 문장 구조, 형식을 그대로 따르면서, 내용만 수정하는 식으로 생성합니다.\n",
    "- 최대한 갑의 이익을 취하되, 법률에 어긋나지 않을 정도로 속이는 겁니다.\n",
    "- 갑과 을 이외의 당사자에게 피해를 전가하지 마세요.\n",
    "- 아주 교묘하게 갑이 이익을 보도록 합니다. 관련 법은 절대로 어기지마세요.\n",
    "**문장:**\n",
    "{sentence}\n",
    "**결과:**\n",
    "\"\"\"}\n",
    "]\n",
    "\n",
    "    # API 호출\n",
    "  completion = client.chat.completions.create(\n",
    "        model=\"gpt-4o-mini\",\n",
    "        messages=messages\n",
    "    )\n",
    "\n",
    "    # 결과 반환\n",
    "  return completion.choices[0].message.content"
   ]
  },
  {
   "cell_type": "code",
   "execution_count": null,
   "metadata": {
    "id": "qdnueJMPRfvB"
   },
   "outputs": [],
   "source": [
    "\"\"\"\n",
    "① “갑”과 “을”은 다음 각 호의 어느 하나에 해당하는 사유가 발생할 경우 이 계약을 해지할 수 있다.\n",
    "\n",
    "  1. “갑” 또는 “을”이 발행한 어음·수표가 지급거절되거나, \"갑\" 또는 \"을\" 자신에 의한 회생·파산 절차의 신청이 있거나, 채권자의 신청에 의해 동 절차가 개시된 경우\n",
    "  2. “갑” 또는 “을”의 주요재산(이 계약에 따라 “을”이 “갑”에 대하여 가지는 납품대금 청구채권을 포함한다)에 대하여 강제경매 등이 실행되어 더 이상의 이 계약 이행이 곤란하게 된 경우\n",
    "  3. 이 계약에 명시된 브랜드나 거래품목의 생산이 중단 또는 종료된 경우\n",
    "  4. “을”이 납품한 상품이 관계법령에 저촉되거나, “을”이 라이선스권자와 체결한 라이선스계약이 종료되어 해당 상품의 납품 또는 판매가 불가능하게 된 경우\n",
    "  5. “갑” 또는 “을”이 관계기관에 의하여 영업정지, 영업허가취소 등의 처분을 받은 경우\n",
    "\n",
    " ② “갑” 또는 “을”이 이 계약의 중요한 사항을 위반한 경우 30일 이상의 기간을 정하여 상대방에게 대한 서면통보로써 그 시정을 요구하고, 이 기간 내에 시정이 이루어지지 않으면 이 계약을 해지할 수 있다.\n",
    "\n",
    " ③ 제1항 및 제2항에 해당하지 않는 부득이한 사유로 어느 일방이 이 계약을 해지하려는 경우에는 해지 3개월 전까지 상대방에게 그 사유를 서면으로 통지하여야 해지할 수 있다.\n",
    "\n",
    " ④ 이 조에 의하여 계약이 해지될 경우, 계약 해지에 관하여 책임 있는 당사자는 상대방에 대하여 계약 해지로 인한 손해를 배상한다.\n",
    "\"\"\""
   ]
  },
  {
   "cell_type": "code",
   "execution_count": 56,
   "metadata": {
    "colab": {
     "base_uri": "https://localhost:8080/"
    },
    "executionInfo": {
     "elapsed": 2586,
     "status": "ok",
     "timestamp": 1738570779549,
     "user": {
      "displayName": "오진석",
      "userId": "15711716449919729916"
     },
     "user_tz": -540
    },
    "id": "H1BzTHhvRncJ",
    "outputId": "37378abf-315c-4619-bbc7-d705b1d8974f"
   },
   "outputs": [
    {
     "name": "stdout",
     "output_type": "stream",
     "text": [
      "⑥ “갑”은 제4항에 따른 이의 신청이 있은 날부터 14일 안에 “을”과 협의를 개시하여야 하며, “을”이 정당한 사유 없이 협의를 거부하거나 게을리 할 경우에 한하여 불리한 조건이 적용될 수 있다.\n"
     ]
    }
   ],
   "source": [
    "sentence = \"\"\"\n",
    "⑥ “갑”은 제4항에 따른 이의 신청이 있은 날부터 14일 안에 “을”과 협의를 개시하여야 하며, 정당한 사유 없이 협의를 거부하거나 게을리 하여서는 아니 된다.\n",
    "\"\"\"\n",
    "result_g = generate_response(sentence)\n",
    "print(result_g)"
   ]
  },
  {
   "cell_type": "code",
   "execution_count": null,
   "metadata": {
    "id": "rrNtq2mHyIf7"
   },
   "outputs": [],
   "source": [
    "def random_process_response(sentence):\n",
    "\n",
    "    # 기준 숫자를 정규표현식으로 추출 (예: '2.')\n",
    "    match = re.search(r'(\\d+)\\.', sentence)\n",
    "    if not match:\n",
    "        return generate_response(sentence)\n",
    "\n",
    "    criterion = match.group(0)  # '2.' 형태의 기준 숫자\n",
    "    criterion_number = match.group(1)  # '2' 형태의 기준 숫자\n",
    "\n",
    "    # 문장을 기준 숫자를 기준으로 분리 (기준 숫자 전과 후)\n",
    "    parts = re.split(r'(\\d+\\.)', sentence)  # 기준 숫자 앞뒤로 분리\n",
    "\n",
    "    # parts[1:]을 통해 분리된 문장 부분을 사용\n",
    "    before = parts[0].strip()  # 기준 숫자 전 부분\n",
    "    after = ''.join(parts[1:]).strip()  # 기준 숫자 후 부분 (여러 부분이 있을 수 있음)\n",
    "\n",
    "    # 랜덤 값 생성 (0, 1)\n",
    "    random_value = random.randint(0, 1)\n",
    "\n",
    "    # 각 경우에 따라 generate_response 적용\n",
    "    if random_value == 0:\n",
    "        before = generate_response(before)\n",
    "    elif random_value == 1:\n",
    "        after = generate_response(after)\n",
    "\n",
    "    # 결과 합치기\n",
    "    return f\"{before} {criterion} {after}\""
   ]
  },
  {
   "cell_type": "code",
   "execution_count": null,
   "metadata": {
    "id": "Iu1HmLU_1pyz"
   },
   "outputs": [],
   "source": [
    "def process_multiple_sentences(target_file):\n",
    "    results = []\n",
    "\n",
    "    # sentences에서 하나씩 처리 (to_unfair_file['sentence'])\n",
    "    for sentence in target_file['sentence']:\n",
    "        # random_process_response 함수에서 결과 생성\n",
    "        result_text = random_process_response(sentence)\n",
    "        # 변환된 결과 저장\n",
    "        results.append(result_text)\n",
    "\n",
    "    # 결과를 데이터프레임으로 반환\n",
    "    return pd.DataFrame(results, columns=['sentence'])"
   ]
  },
  {
   "cell_type": "code",
   "execution_count": null,
   "metadata": {
    "id": "uv8kl9kmD3_Y"
   },
   "outputs": [],
   "source": [
    "import pandas as pd\n",
    "import re\n",
    "\n",
    "def transform_dataframe(df, article_number):\n",
    "\n",
    "    # 불필요한 \"1. 1.\" 형식 수정\n",
    "    df['sentence'] = df['sentence'].str.replace(r'(\\d\\.)\\s*\\1', r'\\1', regex=True)\n",
    "\n",
    "    # 2. article_number 컬럼 추가\n",
    "    df['article_number'] = article_number\n",
    "\n",
    "    # 3. toxic_label 컬럼 추가, 모든 값은 1(독소), 0 정상\n",
    "    df['toxic_label'] = 0\n",
    "\n",
    "    return df\n"
   ]
  },
  {
   "cell_type": "code",
   "execution_count": null,
   "metadata": {
    "collapsed": true,
    "id": "eSloPfpfHv5H"
   },
   "outputs": [],
   "source": [
    "target= '4'\n",
    "target_file_4 = pd.read_csv(path + 'fair_' + target + '_first_preprocessing.csv')\n",
    "toxic_article_4 = process_multiple_sentences(target_file_4)\n",
    "toxic_article_4.to_csv('toxic_article_4.csv', encoding='utf-8-sig', index=False)\n",
    "toxic_article_4_final = transform_dataframe(toxic_article_4, 4)\n",
    "toxic_article_4_final.to_csv('toxic_article_4_final.csv', encoding='utf-8-sig', index=False)"
   ]
  },
  {
   "cell_type": "code",
   "execution_count": null,
   "metadata": {
    "id": "t1il5LTy4t1R"
   },
   "outputs": [],
   "source": [
    "target= '5'\n",
    "target_file_5 = pd.read_csv(path + 'fair_' + target + '_first_preprocessing.csv')\n",
    "toxic_article_5 = process_multiple_sentences(target_file_5)\n",
    "toxic_article_5.to_csv('toxic_article_5.csv', encoding='utf-8-sig', index=False)"
   ]
  },
  {
   "cell_type": "code",
   "execution_count": null,
   "metadata": {
    "id": "YlvKNLzR4d-i"
   },
   "outputs": [],
   "source": [
    "target= '10'\n",
    "target_file_10 = pd.read_csv(path + 'fair_' + target + '_first_preprocessing.csv')\n",
    "toxic_article_10 = process_multiple_sentences(target_file_10)\n",
    "toxic_article_10.to_csv('toxic_article_10.csv', encoding='utf-8-sig', index=False)"
   ]
  },
  {
   "cell_type": "code",
   "execution_count": null,
   "metadata": {
    "id": "Asw0PZgv6j--"
   },
   "outputs": [],
   "source": [
    "target= '12'\n",
    "target_file_12 = pd.read_csv(path + 'fair_' + target + '_first_preprocessing.csv')\n",
    "toxic_article_12 = process_multiple_sentences(target_file_12)\n",
    "toxic_article_12.to_csv('toxic_article_12.csv', encoding='utf-8-sig', index=False)\n",
    "toxic_article_12_final = transform_dataframe(toxic_article_12, 12)\n",
    "toxic_article_12_final.to_csv('toxic_article_12_final.csv', encoding='utf-8-sig', index=False)"
   ]
  },
  {
   "cell_type": "code",
   "execution_count": null,
   "metadata": {
    "id": "9ii3Rl5yMJb1"
   },
   "outputs": [],
   "source": [
    "toxic_article_4 = pd.read_csv('/content/toxic_article_4.csv')\n",
    "toxic_article_4_final = transform_dataframe(toxic_article_4, 4)\n",
    "toxic_article_4_final.to_csv('toxic_article_4_final.csv', encoding='utf-8-sig', index=False)"
   ]
  },
  {
   "cell_type": "code",
   "execution_count": null,
   "metadata": {
    "id": "IkFAaXCzG5Xs"
   },
   "outputs": [],
   "source": [
    "toxic_article_5 = pd.read_csv('/content/drive/MyDrive/생성데이터/toxic_article_5.csv')\n",
    "toxic_article_5_final = transform_dataframe(toxic_article_5, 5)\n",
    "toxic_article_5_final.to_csv('toxic_article_5_final.csv', encoding='utf-8-sig', index=False)"
   ]
  },
  {
   "cell_type": "code",
   "execution_count": null,
   "metadata": {
    "id": "mqsEnHJoLOu9"
   },
   "outputs": [],
   "source": [
    "fair_labeling_5 = pd.read_csv('/content/drive/MyDrive/생성데이터/fair_5_first_preprocessing_2.csv')\n",
    "fair_labeling_5 = transform_dataframe(fair_labeling_5 , 5)\n",
    "fair_labeling_5.to_csv('fair_labeling_5.csv', encoding='utf-8-sig', index=False)"
   ]
  }
 ],
 "metadata": {
  "colab": {
   "authorship_tag": "ABX9TyNnKDCU+67EmW2voKK/hTIQ",
   "provenance": []
  },
  "kernelspec": {
   "display_name": "Python 3",
   "name": "python3"
  },
  "language_info": {
   "name": "python"
  }
 },
 "nbformat": 4,
 "nbformat_minor": 0
}
