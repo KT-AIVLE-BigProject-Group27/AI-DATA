{
 "cells": [
  {
   "cell_type": "code",
   "execution_count": null,
   "metadata": {
    "colab": {
     "base_uri": "https://localhost:8080/"
    },
    "executionInfo": {
     "elapsed": 24932,
     "status": "ok",
     "timestamp": 1736472912714,
     "user": {
      "displayName": "오진석",
      "userId": "15711716449919729916"
     },
     "user_tz": -540
    },
    "id": "3Eiw8PxsWzmJ",
    "outputId": "1090cf04-9ffd-487d-9f4e-0d2141281059"
   },
   "outputs": [
    {
     "name": "stdout",
     "output_type": "stream",
     "text": [
      "Mounted at /content/drive\n"
     ]
    }
   ],
   "source": [
    "from google.colab import drive\n",
    "drive.mount('/content/drive')"
   ]
  },
  {
   "cell_type": "code",
   "execution_count": null,
   "metadata": {
    "id": "VBQvRMZWeRyw"
   },
   "outputs": [],
   "source": [
    "import pandas as pd\n",
    "import numpy as np"
   ]
  },
  {
   "cell_type": "code",
   "execution_count": null,
   "metadata": {
    "colab": {
     "base_uri": "https://localhost:8080/"
    },
    "collapsed": true,
    "executionInfo": {
     "elapsed": 11211,
     "status": "ok",
     "timestamp": 1736472924504,
     "user": {
      "displayName": "오진석",
      "userId": "15711716449919729916"
     },
     "user_tz": -540
    },
    "id": "UeWqBtDsczlc",
    "outputId": "4216d61a-b371-42fe-cb9d-b0de422e4763"
   },
   "outputs": [
    {
     "name": "stdout",
     "output_type": "stream",
     "text": [
      "Requirement already satisfied: transformers in /usr/local/lib/python3.10/dist-packages (4.47.1)\n",
      "Requirement already satisfied: filelock in /usr/local/lib/python3.10/dist-packages (from transformers) (3.16.1)\n",
      "Requirement already satisfied: huggingface-hub<1.0,>=0.24.0 in /usr/local/lib/python3.10/dist-packages (from transformers) (0.27.1)\n",
      "Requirement already satisfied: numpy>=1.17 in /usr/local/lib/python3.10/dist-packages (from transformers) (1.26.4)\n",
      "Requirement already satisfied: packaging>=20.0 in /usr/local/lib/python3.10/dist-packages (from transformers) (24.2)\n",
      "Requirement already satisfied: pyyaml>=5.1 in /usr/local/lib/python3.10/dist-packages (from transformers) (6.0.2)\n",
      "Requirement already satisfied: regex!=2019.12.17 in /usr/local/lib/python3.10/dist-packages (from transformers) (2024.11.6)\n",
      "Requirement already satisfied: requests in /usr/local/lib/python3.10/dist-packages (from transformers) (2.32.3)\n",
      "Requirement already satisfied: tokenizers<0.22,>=0.21 in /usr/local/lib/python3.10/dist-packages (from transformers) (0.21.0)\n",
      "Requirement already satisfied: safetensors>=0.4.1 in /usr/local/lib/python3.10/dist-packages (from transformers) (0.5.0)\n",
      "Requirement already satisfied: tqdm>=4.27 in /usr/local/lib/python3.10/dist-packages (from transformers) (4.67.1)\n",
      "Requirement already satisfied: fsspec>=2023.5.0 in /usr/local/lib/python3.10/dist-packages (from huggingface-hub<1.0,>=0.24.0->transformers) (2024.10.0)\n",
      "Requirement already satisfied: typing-extensions>=3.7.4.3 in /usr/local/lib/python3.10/dist-packages (from huggingface-hub<1.0,>=0.24.0->transformers) (4.12.2)\n",
      "Requirement already satisfied: charset-normalizer<4,>=2 in /usr/local/lib/python3.10/dist-packages (from requests->transformers) (3.4.1)\n",
      "Requirement already satisfied: idna<4,>=2.5 in /usr/local/lib/python3.10/dist-packages (from requests->transformers) (3.10)\n",
      "Requirement already satisfied: urllib3<3,>=1.21.1 in /usr/local/lib/python3.10/dist-packages (from requests->transformers) (2.3.0)\n",
      "Requirement already satisfied: certifi>=2017.4.17 in /usr/local/lib/python3.10/dist-packages (from requests->transformers) (2024.12.14)\n",
      "Requirement already satisfied: torch in /usr/local/lib/python3.10/dist-packages (2.5.1+cu121)\n",
      "Requirement already satisfied: filelock in /usr/local/lib/python3.10/dist-packages (from torch) (3.16.1)\n",
      "Requirement already satisfied: typing-extensions>=4.8.0 in /usr/local/lib/python3.10/dist-packages (from torch) (4.12.2)\n",
      "Requirement already satisfied: networkx in /usr/local/lib/python3.10/dist-packages (from torch) (3.4.2)\n",
      "Requirement already satisfied: jinja2 in /usr/local/lib/python3.10/dist-packages (from torch) (3.1.5)\n",
      "Requirement already satisfied: fsspec in /usr/local/lib/python3.10/dist-packages (from torch) (2024.10.0)\n",
      "Requirement already satisfied: sympy==1.13.1 in /usr/local/lib/python3.10/dist-packages (from torch) (1.13.1)\n",
      "Requirement already satisfied: mpmath<1.4,>=1.1.0 in /usr/local/lib/python3.10/dist-packages (from sympy==1.13.1->torch) (1.3.0)\n",
      "Requirement already satisfied: MarkupSafe>=2.0 in /usr/local/lib/python3.10/dist-packages (from jinja2->torch) (3.0.2)\n"
     ]
    }
   ],
   "source": [
    "!pip install transformers\n",
    "!pip install torch"
   ]
  },
  {
   "cell_type": "code",
   "execution_count": null,
   "metadata": {
    "id": "oqiIH3cmVUrb"
   },
   "outputs": [],
   "source": [
    "data = pd.read_csv('/content/drive/MyDrive/toxic_sentence_merged.csv')"
   ]
  },
  {
   "cell_type": "code",
   "execution_count": null,
   "metadata": {
    "colab": {
     "base_uri": "https://localhost:8080/"
    },
    "executionInfo": {
     "elapsed": 1119,
     "status": "ok",
     "timestamp": 1736473014808,
     "user": {
      "displayName": "오진석",
      "userId": "15711716449919729916"
     },
     "user_tz": -540
    },
    "id": "quYY1ka0VUza",
    "outputId": "f7712f57-25fb-448a-e3c9-356706c63dcc"
   },
   "outputs": [
    {
     "name": "stderr",
     "output_type": "stream",
     "text": [
      "Some weights of BertForSequenceClassification were not initialized from the model checkpoint at nlpaueb/legal-bert-small-uncased and are newly initialized: ['classifier.bias', 'classifier.weight']\n",
      "You should probably TRAIN this model on a down-stream task to be able to use it for predictions and inference.\n"
     ]
    }
   ],
   "source": [
    "from transformers import AutoModelForSequenceClassification, AutoTokenizer\n",
    "from transformers import Trainer, TrainingArguments\n",
    "\n",
    "\n",
    "# 사전 학습 모델 로드 (2진 분류를 위한 출력층 추가)\n",
    "model = AutoModelForSequenceClassification.from_pretrained(\"nlpaueb/legal-bert-small-uncased\", num_labels=2)\n",
    "\n",
    "# 토크나이저 로드\n",
    "tokenizer = AutoTokenizer.from_pretrained(\"nlpaueb/legal-bert-small-uncased\")"
   ]
  },
  {
   "cell_type": "code",
   "execution_count": null,
   "metadata": {
    "id": "hy4hTImgfP4n"
   },
   "outputs": [],
   "source": [
    "from transformers import AutoTokenizer\n",
    "import torch\n",
    "\n",
    "# 텍스트를 토큰화\n",
    "inputs = tokenizer(list(data['sentence']), padding=True, truncation=True, return_tensors=\"pt\")\n",
    "labels = torch.tensor(data['label'].values)  # 레이블을 텐서로 변환"
   ]
  },
  {
   "cell_type": "code",
   "execution_count": null,
   "metadata": {
    "colab": {
     "base_uri": "https://localhost:8080/"
    },
    "executionInfo": {
     "elapsed": 913,
     "status": "ok",
     "timestamp": 1736473022697,
     "user": {
      "displayName": "오진석",
      "userId": "15711716449919729916"
     },
     "user_tz": -540
    },
    "id": "H3q5ZmaNf-XX",
    "outputId": "0c886892-9910-49b0-d9fb-e3e76eb65f31"
   },
   "outputs": [
    {
     "name": "stderr",
     "output_type": "stream",
     "text": [
      "Some weights of BertForSequenceClassification were not initialized from the model checkpoint at nlpaueb/legal-bert-small-uncased and are newly initialized: ['classifier.bias', 'classifier.weight']\n",
      "You should probably TRAIN this model on a down-stream task to be able to use it for predictions and inference.\n"
     ]
    }
   ],
   "source": [
    "from transformers import AutoModelForSequenceClassification\n",
    "\n",
    "# 모델 로드 (2진 분류 작업을 위한 출력층 설정)\n",
    "model = AutoModelForSequenceClassification.from_pretrained(\"nlpaueb/legal-bert-small-uncased\", num_labels=2)"
   ]
  },
  {
   "cell_type": "code",
   "execution_count": null,
   "metadata": {
    "id": "NsFPyw-VcYg6"
   },
   "outputs": [],
   "source": [
    "from transformers import AutoConfig, AutoModelForSequenceClassification\n",
    "\n",
    "# Config 생성 및 수정\n",
    "config = AutoConfig.from_pretrained(\"nlpaueb/legal-bert-small-uncased\", num_labels=2)\n",
    "config.max_position_embeddings = 1024  # 수정\n",
    "\n",
    "# 모델 생성\n",
    "model = AutoModelForSequenceClassification.from_config(config)"
   ]
  },
  {
   "cell_type": "code",
   "execution_count": null,
   "metadata": {
    "id": "qs0eXRKsr8zr"
   },
   "outputs": [],
   "source": [
    "data = pd.read_csv('/content/drive/MyDrive/toxic_sentence_merged.csv')\n",
    "data_temp = data.copy()"
   ]
  },
  {
   "cell_type": "code",
   "execution_count": null,
   "metadata": {
    "id": "9A3Qjh9-maTJ"
   },
   "outputs": [],
   "source": [
    "from torch.utils.data import Dataset\n",
    "import torch\n",
    "\n",
    "# Dataset 클래스를 상속하여 커스터마이징\n",
    "class ContractDataset(Dataset):\n",
    "    def __init__(self, texts, labels, tokenizer):\n",
    "        self.texts = texts\n",
    "        self.labels = labels\n",
    "        self.tokenizer = tokenizer\n",
    "\n",
    "    def __len__(self):\n",
    "        return len(self.texts)\n",
    "\n",
    "    def __getitem__(self, idx):\n",
    "        # 텍스트를 토큰화\n",
    "        encoding = self.tokenizer(self.texts[idx], padding='max_length', truncation=True, max_length=1024, return_tensors='pt')\n",
    "\n",
    "        # 토큰화된 텍스트와 레이블을 반환 (튜플 형식으로)\n",
    "        item = {key: encoding[key].squeeze(0) for key in encoding}  # 차원 축소\n",
    "        item['labels'] = torch.tensor(self.labels[idx])  # 레이블 추가\n",
    "        return item"
   ]
  },
  {
   "cell_type": "code",
   "execution_count": null,
   "metadata": {
    "colab": {
     "base_uri": "https://localhost:8080/",
     "height": 1000
    },
    "executionInfo": {
     "elapsed": 1534179,
     "status": "ok",
     "timestamp": 1736474567606,
     "user": {
      "displayName": "오진석",
      "userId": "15711716449919729916"
     },
     "user_tz": -540
    },
    "id": "1HuYsEJ7m35g",
    "outputId": "652545d7-d000-4f62-d75f-68d5907141e4"
   },
   "outputs": [
    {
     "name": "stderr",
     "output_type": "stream",
     "text": [
      "\u001b[34m\u001b[1mwandb\u001b[0m: \u001b[33mWARNING\u001b[0m The `run_name` is currently set to the same value as `TrainingArguments.output_dir`. If this was not intended, please specify a different run name by setting the `TrainingArguments.run_name` parameter.\n",
      "\u001b[34m\u001b[1mwandb\u001b[0m: Using wandb-core as the SDK backend.  Please refer to https://wandb.me/wandb-core for more information.\n"
     ]
    },
    {
     "data": {
      "application/javascript": "\n        window._wandbApiKey = new Promise((resolve, reject) => {\n            function loadScript(url) {\n            return new Promise(function(resolve, reject) {\n                let newScript = document.createElement(\"script\");\n                newScript.onerror = reject;\n                newScript.onload = resolve;\n                document.body.appendChild(newScript);\n                newScript.src = url;\n            });\n            }\n            loadScript(\"https://cdn.jsdelivr.net/npm/postmate/build/postmate.min.js\").then(() => {\n            const iframe = document.createElement('iframe')\n            iframe.style.cssText = \"width:0;height:0;border:none\"\n            document.body.appendChild(iframe)\n            const handshake = new Postmate({\n                container: iframe,\n                url: 'https://wandb.ai/authorize'\n            });\n            const timeout = setTimeout(() => reject(\"Couldn't auto authenticate\"), 5000)\n            handshake.then(function(child) {\n                child.on('authorize', data => {\n                    clearTimeout(timeout)\n                    resolve(data)\n                });\n            });\n            })\n        });\n    ",
      "text/plain": [
       "<IPython.core.display.Javascript object>"
      ]
     },
     "metadata": {},
     "output_type": "display_data"
    },
    {
     "name": "stderr",
     "output_type": "stream",
     "text": [
      "\u001b[34m\u001b[1mwandb\u001b[0m: Logging into wandb.ai. (Learn how to deploy a W&B server locally: https://wandb.me/wandb-server)\n",
      "\u001b[34m\u001b[1mwandb\u001b[0m: You can find your API key in your browser here: https://wandb.ai/authorize\n",
      "wandb: Paste an API key from your profile and hit enter, or press ctrl+c to quit:"
     ]
    },
    {
     "name": "stdout",
     "output_type": "stream",
     "text": [
      " ··········\n"
     ]
    },
    {
     "name": "stderr",
     "output_type": "stream",
     "text": [
      "\u001b[34m\u001b[1mwandb\u001b[0m: Appending key for api.wandb.ai to your netrc file: /root/.netrc\n"
     ]
    },
    {
     "data": {
      "text/html": [
       "Tracking run with wandb version 0.19.1"
      ],
      "text/plain": [
       "<IPython.core.display.HTML object>"
      ]
     },
     "metadata": {},
     "output_type": "display_data"
    },
    {
     "data": {
      "text/html": [
       "Run data is saved locally in <code>/content/wandb/run-20250110_013828-9evpx6za</code>"
      ],
      "text/plain": [
       "<IPython.core.display.HTML object>"
      ]
     },
     "metadata": {},
     "output_type": "display_data"
    },
    {
     "data": {
      "text/html": [
       "Syncing run <strong><a href='https://wandb.ai/jins7oh-kt/huggingface/runs/9evpx6za' target=\"_blank\">./results</a></strong> to <a href='https://wandb.ai/jins7oh-kt/huggingface' target=\"_blank\">Weights & Biases</a> (<a href='https://wandb.me/developer-guide' target=\"_blank\">docs</a>)<br>"
      ],
      "text/plain": [
       "<IPython.core.display.HTML object>"
      ]
     },
     "metadata": {},
     "output_type": "display_data"
    },
    {
     "data": {
      "text/html": [
       " View project at <a href='https://wandb.ai/jins7oh-kt/huggingface' target=\"_blank\">https://wandb.ai/jins7oh-kt/huggingface</a>"
      ],
      "text/plain": [
       "<IPython.core.display.HTML object>"
      ]
     },
     "metadata": {},
     "output_type": "display_data"
    },
    {
     "data": {
      "text/html": [
       " View run at <a href='https://wandb.ai/jins7oh-kt/huggingface/runs/9evpx6za' target=\"_blank\">https://wandb.ai/jins7oh-kt/huggingface/runs/9evpx6za</a>"
      ],
      "text/plain": [
       "<IPython.core.display.HTML object>"
      ]
     },
     "metadata": {},
     "output_type": "display_data"
    },
    {
     "data": {
      "text/html": [
       "\n",
       "    <div>\n",
       "      \n",
       "      <progress value='2910' max='2910' style='width:300px; height:20px; vertical-align: middle;'></progress>\n",
       "      [2910/2910 25:14, Epoch 30/30]\n",
       "    </div>\n",
       "    <table border=\"1\" class=\"dataframe\">\n",
       "  <thead>\n",
       " <tr style=\"text-align: left;\">\n",
       "      <th>Epoch</th>\n",
       "      <th>Training Loss</th>\n",
       "      <th>Validation Loss</th>\n",
       "    </tr>\n",
       "  </thead>\n",
       "  <tbody>\n",
       "    <tr>\n",
       "      <td>1</td>\n",
       "      <td>No log</td>\n",
       "      <td>0.670757</td>\n",
       "    </tr>\n",
       "    <tr>\n",
       "      <td>2</td>\n",
       "      <td>No log</td>\n",
       "      <td>0.695728</td>\n",
       "    </tr>\n",
       "    <tr>\n",
       "      <td>3</td>\n",
       "      <td>No log</td>\n",
       "      <td>0.658310</td>\n",
       "    </tr>\n",
       "    <tr>\n",
       "      <td>4</td>\n",
       "      <td>No log</td>\n",
       "      <td>0.678955</td>\n",
       "    </tr>\n",
       "    <tr>\n",
       "      <td>5</td>\n",
       "      <td>No log</td>\n",
       "      <td>0.646059</td>\n",
       "    </tr>\n",
       "    <tr>\n",
       "      <td>6</td>\n",
       "      <td>0.604300</td>\n",
       "      <td>0.598098</td>\n",
       "    </tr>\n",
       "    <tr>\n",
       "      <td>7</td>\n",
       "      <td>0.604300</td>\n",
       "      <td>0.606020</td>\n",
       "    </tr>\n",
       "    <tr>\n",
       "      <td>8</td>\n",
       "      <td>0.604300</td>\n",
       "      <td>0.669029</td>\n",
       "    </tr>\n",
       "    <tr>\n",
       "      <td>9</td>\n",
       "      <td>0.604300</td>\n",
       "      <td>0.601090</td>\n",
       "    </tr>\n",
       "    <tr>\n",
       "      <td>10</td>\n",
       "      <td>0.604300</td>\n",
       "      <td>0.629489</td>\n",
       "    </tr>\n",
       "    <tr>\n",
       "      <td>11</td>\n",
       "      <td>0.497500</td>\n",
       "      <td>0.692939</td>\n",
       "    </tr>\n",
       "    <tr>\n",
       "      <td>12</td>\n",
       "      <td>0.497500</td>\n",
       "      <td>0.670651</td>\n",
       "    </tr>\n",
       "    <tr>\n",
       "      <td>13</td>\n",
       "      <td>0.497500</td>\n",
       "      <td>0.644777</td>\n",
       "    </tr>\n",
       "    <tr>\n",
       "      <td>14</td>\n",
       "      <td>0.497500</td>\n",
       "      <td>0.803683</td>\n",
       "    </tr>\n",
       "    <tr>\n",
       "      <td>15</td>\n",
       "      <td>0.497500</td>\n",
       "      <td>0.796639</td>\n",
       "    </tr>\n",
       "    <tr>\n",
       "      <td>16</td>\n",
       "      <td>0.439000</td>\n",
       "      <td>0.720634</td>\n",
       "    </tr>\n",
       "    <tr>\n",
       "      <td>17</td>\n",
       "      <td>0.439000</td>\n",
       "      <td>0.798899</td>\n",
       "    </tr>\n",
       "    <tr>\n",
       "      <td>18</td>\n",
       "      <td>0.439000</td>\n",
       "      <td>0.840710</td>\n",
       "    </tr>\n",
       "    <tr>\n",
       "      <td>19</td>\n",
       "      <td>0.439000</td>\n",
       "      <td>0.878917</td>\n",
       "    </tr>\n",
       "    <tr>\n",
       "      <td>20</td>\n",
       "      <td>0.439000</td>\n",
       "      <td>0.878336</td>\n",
       "    </tr>\n",
       "    <tr>\n",
       "      <td>21</td>\n",
       "      <td>0.404400</td>\n",
       "      <td>0.868876</td>\n",
       "    </tr>\n",
       "    <tr>\n",
       "      <td>22</td>\n",
       "      <td>0.404400</td>\n",
       "      <td>0.959110</td>\n",
       "    </tr>\n",
       "    <tr>\n",
       "      <td>23</td>\n",
       "      <td>0.404400</td>\n",
       "      <td>0.881350</td>\n",
       "    </tr>\n",
       "    <tr>\n",
       "      <td>24</td>\n",
       "      <td>0.404400</td>\n",
       "      <td>0.857773</td>\n",
       "    </tr>\n",
       "    <tr>\n",
       "      <td>25</td>\n",
       "      <td>0.404400</td>\n",
       "      <td>0.851740</td>\n",
       "    </tr>\n",
       "    <tr>\n",
       "      <td>26</td>\n",
       "      <td>0.364800</td>\n",
       "      <td>0.872324</td>\n",
       "    </tr>\n",
       "    <tr>\n",
       "      <td>27</td>\n",
       "      <td>0.364800</td>\n",
       "      <td>0.912206</td>\n",
       "    </tr>\n",
       "    <tr>\n",
       "      <td>28</td>\n",
       "      <td>0.364800</td>\n",
       "      <td>0.942084</td>\n",
       "    </tr>\n",
       "    <tr>\n",
       "      <td>29</td>\n",
       "      <td>0.364800</td>\n",
       "      <td>0.951842</td>\n",
       "    </tr>\n",
       "    <tr>\n",
       "      <td>30</td>\n",
       "      <td>0.364800</td>\n",
       "      <td>0.944532</td>\n",
       "    </tr>\n",
       "  </tbody>\n",
       "</table><p>"
      ],
      "text/plain": [
       "<IPython.core.display.HTML object>"
      ]
     },
     "metadata": {},
     "output_type": "display_data"
    },
    {
     "data": {
      "text/plain": [
       "TrainOutput(global_step=2910, training_loss=0.4448265521387054, metrics={'train_runtime': 1531.4323, 'train_samples_per_second': 15.084, 'train_steps_per_second': 1.9, 'total_flos': 2722007844864000.0, 'train_loss': 0.4448265521387054, 'epoch': 30.0})"
      ]
     },
     "execution_count": 17,
     "metadata": {},
     "output_type": "execute_result"
    }
   ],
   "source": [
    "from transformers import Trainer, TrainingArguments\n",
    "from torch.utils.data import random_split\n",
    "\n",
    "# 훈련 인자 설정\n",
    "training_args = TrainingArguments(\n",
    "    output_dir='./results',          # 결과 디렉토리\n",
    "    num_train_epochs=30,              # 훈련 epoch 수\n",
    "    per_device_train_batch_size=8,   # 배치 사이즈\n",
    "    learning_rate=5e-5,\n",
    "    eval_strategy=\"epoch\",     # 평가 주기\n",
    "    logging_dir='./logs',            # 로그 디렉토리\n",
    ")\n",
    "\n",
    "# Custom Dataset 객체 생성\n",
    "train_dataset = ContractDataset(data_temp['sentence'].tolist(), data_temp['label'].tolist(), tokenizer)\n",
    "\n",
    "train_size = int(0.7 * len(train_dataset))  # 70% 훈련\n",
    "val_size = int(0.2 * len(train_dataset))    # 20% 검증\n",
    "test_size = len(train_dataset) - train_size - val_size  # 나머지 10% 테스트\n",
    "\n",
    "# 데이터셋을 훈련, 검증, 테스트로 나누기\n",
    "train_dataset, eval_dataset, test_dataset = random_split(train_dataset, [train_size, val_size, test_size])\n",
    "\n",
    "# Trainer에 Dataset 객체 전달\n",
    "trainer = Trainer(\n",
    "    model=model,                         # 모델\n",
    "    args=training_args,                  # 훈련 인자\n",
    "    train_dataset=train_dataset,         # 훈련 데이터셋\n",
    "    eval_dataset=eval_dataset,          # 평가 데이터셋 (선택적으로 설정)\n",
    ")\n",
    "\n",
    "# 훈련 시작\n",
    "trainer.train()"
   ]
  },
  {
   "cell_type": "code",
   "execution_count": null,
   "metadata": {
    "id": "E2VmJk6VwMDg"
   },
   "outputs": [],
   "source": [
    "# 모델 로드\n",
    "# wandb key : e06e8b1c2f26095018e41310344bfdafc2e1af80"
   ]
  },
  {
   "cell_type": "code",
   "execution_count": null,
   "metadata": {
    "colab": {
     "base_uri": "https://localhost:8080/",
     "height": 76
    },
    "executionInfo": {
     "elapsed": 3995,
     "status": "ok",
     "timestamp": 1736474775878,
     "user": {
      "displayName": "오진석",
      "userId": "15711716449919729916"
     },
     "user_tz": -540
    },
    "id": "NBZb5BHpe2Hl",
    "outputId": "20fddde8-749f-4eb6-8162-23f8580792f2"
   },
   "outputs": [
    {
     "data": {
      "text/html": [
       "\n",
       "    <div>\n",
       "      \n",
       "      <progress value='28' max='28' style='width:300px; height:20px; vertical-align: middle;'></progress>\n",
       "      [28/28 00:03]\n",
       "    </div>\n",
       "    "
      ],
      "text/plain": [
       "<IPython.core.display.HTML object>"
      ]
     },
     "metadata": {},
     "output_type": "display_data"
    },
    {
     "name": "stdout",
     "output_type": "stream",
     "text": [
      "Evaluation results:  {'eval_loss': 0.9445316195487976, 'eval_runtime': 3.5819, 'eval_samples_per_second': 61.42, 'eval_steps_per_second': 7.817, 'epoch': 30.0}\n"
     ]
    }
   ],
   "source": [
    "# 평가\n",
    "results = trainer.evaluate()\n",
    "\n",
    "print(\"Evaluation results: \", results)"
   ]
  },
  {
   "cell_type": "code",
   "execution_count": null,
   "metadata": {
    "id": "d2klTaC-o4OD"
   },
   "outputs": [],
   "source": [
    "data_temp['predicted_label_percent'] = None  # 초기 값으로 None 또는 다른 값을 할당\n",
    "# NaN으로 초기화\n",
    "data_temp['predicted_label'] = np.nan"
   ]
  },
  {
   "cell_type": "code",
   "execution_count": null,
   "metadata": {
    "colab": {
     "base_uri": "https://localhost:8080/",
     "height": 17
    },
    "executionInfo": {
     "elapsed": 2452,
     "status": "ok",
     "timestamp": 1736474778326,
     "user": {
      "displayName": "오진석",
      "userId": "15711716449919729916"
     },
     "user_tz": -540
    },
    "id": "DAEtd24_oxxM",
    "outputId": "96e83e77-dbe5-485e-958d-c75b652dd5db"
   },
   "outputs": [
    {
     "data": {
      "text/html": [],
      "text/plain": [
       "<IPython.core.display.HTML object>"
      ]
     },
     "metadata": {},
     "output_type": "display_data"
    }
   ],
   "source": [
    "# 예측 수행 (테스트 데이터셋을 기준으로)\n",
    "predictions, label_ids, metrics = trainer.predict(test_dataset)\n",
    "\n",
    "# 로짓을 확률로 변환 (Sigmoid 적용)\n",
    "probabilities = torch.sigmoid(torch.tensor(predictions))  # 로짓을 확률로 변환\n",
    "\n",
    "# 양성 클래스(1번 클래스)의 확률을 선택 (1D 배열로 변환)\n",
    "predicted_label_percent = probabilities[:, 1].numpy()  # 확률 값 (1D 배열)\n",
    "\n",
    "# 예측된 레이블 추출 (0 또는 1)\n",
    "predicted_labels = (predicted_label_percent > 0.5).astype(int)  # 0.5를 기준으로 레이블 결정\n",
    "\n",
    "# 예측 결과를 data_temp에 해당하는 부분에 추가\n",
    "start_index = len(train_dataset) + len(eval_dataset)\n",
    "end_index = start_index + len(test_dataset)\n",
    "\n",
    "# 'predicted_label' 컬럼 초기화\n",
    "data_temp['predicted_label'] = np.nan  # NaN으로 초기화\n",
    "\n",
    "# 예측된 레이블을 'predicted_label' 컬럼에 추가\n",
    "data_temp.iloc[start_index:end_index, data_temp.columns.get_loc('predicted_label')] = predicted_labels\n",
    "\n",
    "# 예측된 확률 값 (predicted_label_percent)을 'predicted_label_percent' 컬럼에 추가\n",
    "data_temp.loc[start_index:end_index-1, 'predicted_label_percent'] = predicted_label_percent"
   ]
  },
  {
   "cell_type": "code",
   "execution_count": null,
   "metadata": {
    "colab": {
     "base_uri": "https://localhost:8080/",
     "height": 423
    },
    "executionInfo": {
     "elapsed": 5,
     "status": "ok",
     "timestamp": 1736474778326,
     "user": {
      "displayName": "오진석",
      "userId": "15711716449919729916"
     },
     "user_tz": -540
    },
    "id": "L7pxUnAgnYRd",
    "outputId": "044ab5c6-6359-40a4-a701-99a004198c64"
   },
   "outputs": [
    {
     "data": {
      "application/vnd.google.colaboratory.intrinsic+json": {
       "summary": "{\n  \"name\": \"data_temp\",\n  \"rows\": 1101,\n  \"fields\": [\n    {\n      \"column\": \"sentence\",\n      \"properties\": {\n        \"dtype\": \"string\",\n        \"num_unique_values\": 1101,\n        \"samples\": [\n          \"\\uac11\\uc740 \\uc744\\uc758 \\uc7ac\\uace0 \\uc0c1\\ud669\\uacfc \\uad00\\uacc4\\uc5c6\\uc774 \\uc8fc\\ubb38\\ub7c9\\uc744 \\uc790\\uc720\\ub86d\\uac8c \\uc870\\uc815\\ud560 \\uc218 \\uc788\\uc73c\\uba70, \\uc744\\uc740 \\uc774\\uc5d0 \\ubb34\\uc870\\uac74 \\uc751\\ud574\\uc57c \\ud55c\\ub2e4.\",\n          \"**\\uc6d0\\ubcf8 \\ubb38\\uc7a5:**\\n\\ud310\\ub9e4\\uc7a5\\ub824\\uae08\\ub960(\\uc561)\\n\\n**\\uc218\\uc815\\ub41c \\ubb38\\uc7a5:**\\n\\ud310\\ub9e4\\uc7a5\\ub824\\uae08\\ub960\\uc740 \\ub9e4\\uc6d4 \\ubc1c\\uc0dd\\ud55c \\ucd1d \\ud310\\ub9e4\\ub7c9\\uc758 3%\\ub85c \\ud558\\uba70, \\uc774 \\uae08\\uc561\\uc740 \\uac11\\uc5d0 \\uc758\\ud574 \\ub2e8\\ub3c5\\uc73c\\ub85c \\uacb0\\uc815\\ub418\\uba70, \\uc744\\uc740 \\uac11\\uc774 \\uc81c\\uacf5\\ud558\\ub294 \\uacc4\\uc0b0 \\uc815\\ubcf4\\uc5d0 \\ub300\\ud574 \\uc774\\uc758\\ub97c \\uc81c\\uae30\\ud560 \\uc218 \\uc5c6\\ub2e4. \\uc774 \\uacc4\\uc57d\\uc740 2023\\ub144 10\\uc6d4 1\\uc77c\\ubd80\\ud130 \\ud6a8\\ub825\\uc744 \\ubc1c\\uc0dd\\ud558\\uba70, 2025\\ub144 9\\uc6d4 30\\uc77c\\uae4c\\uc9c0 \\uc720\\ud6a8\\ud558\\ub2e4. \\uac11\\uc740 \\ud310\\ub9e4\\uc7a5\\ub824\\uae08\\uc758 \\uc815\\ud655\\ud55c \\uacc4\\uc0b0 \\ubc29\\ubc95\\uc744 \\uacf5\\uac1c\\ud558\\uc9c0 \\uc54a\\uc544\\ub3c4 \\ub418\\uba70, \\uc744\\uc740 \\uac11\\uc774 \\uacb0\\uc815\\ud55c \\uae08\\uc561\\uc744 \\uc218\\ub839\\ud560 \\uc758\\ubb34\\ub9cc \\uc788\\ub2e4.\",\n          \"\\uac11\\uc740 \\uacc4\\uc57d \\uae30\\uac04 \\uc911\\uc5d0 \\uc744\\uc758 \\uc694\\uccad\\ud558\\ub294 \\ubaa8\\ub4e0 \\ubcc0\\uacbd \\uc0ac\\ud56d\\uc744 \\uc989\\uc2dc \\uc218\\uc6a9\\ud574\\uc57c \\ud55c\\ub2e4.\"\n        ],\n        \"semantic_type\": \"\",\n        \"description\": \"\"\n      }\n    },\n    {\n      \"column\": \"label\",\n      \"properties\": {\n        \"dtype\": \"number\",\n        \"std\": 0,\n        \"min\": 0,\n        \"max\": 1,\n        \"num_unique_values\": 2,\n        \"samples\": [\n          0,\n          1\n        ],\n        \"semantic_type\": \"\",\n        \"description\": \"\"\n      }\n    },\n    {\n      \"column\": \"predicted_label_percent\",\n      \"properties\": {\n        \"dtype\": \"date\",\n        \"min\": 0.08253064751625061,\n        \"max\": 0.9346377849578857,\n        \"num_unique_values\": 91,\n        \"samples\": [\n          0.306323766708374,\n          0.9328950047492981\n        ],\n        \"semantic_type\": \"\",\n        \"description\": \"\"\n      }\n    },\n    {\n      \"column\": \"predicted_label\",\n      \"properties\": {\n        \"dtype\": \"number\",\n        \"std\": 0.4997952078554272,\n        \"min\": 0.0,\n        \"max\": 1.0,\n        \"num_unique_values\": 2,\n        \"samples\": [\n          0.0,\n          1.0\n        ],\n        \"semantic_type\": \"\",\n        \"description\": \"\"\n      }\n    }\n  ]\n}",
       "type": "dataframe",
       "variable_name": "data_temp"
      },
      "text/html": [
       "\n",
       "  <div id=\"df-1307c27e-cf8a-4e96-bd9b-1283434901bf\" class=\"colab-df-container\">\n",
       "    <div>\n",
       "<style scoped>\n",
       "    .dataframe tbody tr th:only-of-type {\n",
       "        vertical-align: middle;\n",
       "    }\n",
       "\n",
       "    .dataframe tbody tr th {\n",
       "        vertical-align: top;\n",
       "    }\n",
       "\n",
       "    .dataframe thead th {\n",
       "        text-align: right;\n",
       "    }\n",
       "</style>\n",
       "<table border=\"1\" class=\"dataframe\">\n",
       "  <thead>\n",
       "    <tr style=\"text-align: right;\">\n",
       "      <th></th>\n",
       "      <th>sentence</th>\n",
       "      <th>label</th>\n",
       "      <th>predicted_label_percent</th>\n",
       "      <th>predicted_label</th>\n",
       "    </tr>\n",
       "  </thead>\n",
       "  <tbody>\n",
       "    <tr>\n",
       "      <th>0</th>\n",
       "      <td>본 계약에 따라 공급된 상품에 대해 모든 책임은 을이 단독으로 부담하며, 갑은 어떠...</td>\n",
       "      <td>1</td>\n",
       "      <td>None</td>\n",
       "      <td>NaN</td>\n",
       "    </tr>\n",
       "    <tr>\n",
       "      <th>1</th>\n",
       "      <td>본 계약에 따라 납품된 상품에 대한 환불 및 반품 요청은 어떠한 경우에도 불가하다.</td>\n",
       "      <td>1</td>\n",
       "      <td>None</td>\n",
       "      <td>NaN</td>\n",
       "    </tr>\n",
       "    <tr>\n",
       "      <th>2</th>\n",
       "      <td>을은 갑의 요청이 있을 경우, 별도의 대가 없이 추가 물량을 무상으로 공급해야 한다.</td>\n",
       "      <td>1</td>\n",
       "      <td>None</td>\n",
       "      <td>NaN</td>\n",
       "    </tr>\n",
       "    <tr>\n",
       "      <th>3</th>\n",
       "      <td>갑은 언제든지 을의 동의 없이 계약을 해지할 수 있으며, 을은 이에 대해 어떠한 이...</td>\n",
       "      <td>1</td>\n",
       "      <td>None</td>\n",
       "      <td>NaN</td>\n",
       "    </tr>\n",
       "    <tr>\n",
       "      <th>4</th>\n",
       "      <td>을이 계약을 위반할 경우 즉시 손해배상 책임을 지며, 갑은 이에 대한 구체적인 증빙...</td>\n",
       "      <td>1</td>\n",
       "      <td>None</td>\n",
       "      <td>NaN</td>\n",
       "    </tr>\n",
       "    <tr>\n",
       "      <th>...</th>\n",
       "      <td>...</td>\n",
       "      <td>...</td>\n",
       "      <td>...</td>\n",
       "      <td>...</td>\n",
       "    </tr>\n",
       "    <tr>\n",
       "      <th>1096</th>\n",
       "      <td>③ \"갑\"과 \"을\"이 2023년 7월 5일에 따른 조정을 신청하지 아니하는 경우, ...</td>\n",
       "      <td>1</td>\n",
       "      <td>0.646392</td>\n",
       "      <td>1.0</td>\n",
       "    </tr>\n",
       "    <tr>\n",
       "      <th>1097</th>\n",
       "      <td>※ 중재에 의해 분쟁을 최종적으로 해결하고자 하는 경우에는 2022년 2월 28일자...</td>\n",
       "      <td>1</td>\n",
       "      <td>0.932636</td>\n",
       "      <td>1.0</td>\n",
       "    </tr>\n",
       "    <tr>\n",
       "      <th>1098</th>\n",
       "      <td>③ \"갑\"과 \"을\"이 2023년 10월 31일까지 제2항에 의한 조정을 신청하지 아...</td>\n",
       "      <td>1</td>\n",
       "      <td>0.903633</td>\n",
       "      <td>1.0</td>\n",
       "    </tr>\n",
       "    <tr>\n",
       "      <th>1099</th>\n",
       "      <td>중재기관: 서울중앙지방법원(2024년 5월 10일 기준으로 추가 수수료 15%를 요...</td>\n",
       "      <td>1</td>\n",
       "      <td>0.680467</td>\n",
       "      <td>1.0</td>\n",
       "    </tr>\n",
       "    <tr>\n",
       "      <th>1100</th>\n",
       "      <td>중재규칙: 위 중재기관이 정하는 중재규칙의 의거하여 더욱 유리한 수수료를 요구하거나...</td>\n",
       "      <td>1</td>\n",
       "      <td>0.680467</td>\n",
       "      <td>1.0</td>\n",
       "    </tr>\n",
       "  </tbody>\n",
       "</table>\n",
       "<p>1101 rows × 4 columns</p>\n",
       "</div>\n",
       "    <div class=\"colab-df-buttons\">\n",
       "\n",
       "  <div class=\"colab-df-container\">\n",
       "    <button class=\"colab-df-convert\" onclick=\"convertToInteractive('df-1307c27e-cf8a-4e96-bd9b-1283434901bf')\"\n",
       "            title=\"Convert this dataframe to an interactive table.\"\n",
       "            style=\"display:none;\">\n",
       "\n",
       "  <svg xmlns=\"http://www.w3.org/2000/svg\" height=\"24px\" viewBox=\"0 -960 960 960\">\n",
       "    <path d=\"M120-120v-720h720v720H120Zm60-500h600v-160H180v160Zm220 220h160v-160H400v160Zm0 220h160v-160H400v160ZM180-400h160v-160H180v160Zm440 0h160v-160H620v160ZM180-180h160v-160H180v160Zm440 0h160v-160H620v160Z\"/>\n",
       "  </svg>\n",
       "    </button>\n",
       "\n",
       "  <style>\n",
       "    .colab-df-container {\n",
       "      display:flex;\n",
       "      gap: 12px;\n",
       "    }\n",
       "\n",
       "    .colab-df-convert {\n",
       "      background-color: #E8F0FE;\n",
       "      border: none;\n",
       "      border-radius: 50%;\n",
       "      cursor: pointer;\n",
       "      display: none;\n",
       "      fill: #1967D2;\n",
       "      height: 32px;\n",
       "      padding: 0 0 0 0;\n",
       "      width: 32px;\n",
       "    }\n",
       "\n",
       "    .colab-df-convert:hover {\n",
       "      background-color: #E2EBFA;\n",
       "      box-shadow: 0px 1px 2px rgba(60, 64, 67, 0.3), 0px 1px 3px 1px rgba(60, 64, 67, 0.15);\n",
       "      fill: #174EA6;\n",
       "    }\n",
       "\n",
       "    .colab-df-buttons div {\n",
       "      margin-bottom: 4px;\n",
       "    }\n",
       "\n",
       "    [theme=dark] .colab-df-convert {\n",
       "      background-color: #3B4455;\n",
       "      fill: #D2E3FC;\n",
       "    }\n",
       "\n",
       "    [theme=dark] .colab-df-convert:hover {\n",
       "      background-color: #434B5C;\n",
       "      box-shadow: 0px 1px 3px 1px rgba(0, 0, 0, 0.15);\n",
       "      filter: drop-shadow(0px 1px 2px rgba(0, 0, 0, 0.3));\n",
       "      fill: #FFFFFF;\n",
       "    }\n",
       "  </style>\n",
       "\n",
       "    <script>\n",
       "      const buttonEl =\n",
       "        document.querySelector('#df-1307c27e-cf8a-4e96-bd9b-1283434901bf button.colab-df-convert');\n",
       "      buttonEl.style.display =\n",
       "        google.colab.kernel.accessAllowed ? 'block' : 'none';\n",
       "\n",
       "      async function convertToInteractive(key) {\n",
       "        const element = document.querySelector('#df-1307c27e-cf8a-4e96-bd9b-1283434901bf');\n",
       "        const dataTable =\n",
       "          await google.colab.kernel.invokeFunction('convertToInteractive',\n",
       "                                                    [key], {});\n",
       "        if (!dataTable) return;\n",
       "\n",
       "        const docLinkHtml = 'Like what you see? Visit the ' +\n",
       "          '<a target=\"_blank\" href=https://colab.research.google.com/notebooks/data_table.ipynb>data table notebook</a>'\n",
       "          + ' to learn more about interactive tables.';\n",
       "        element.innerHTML = '';\n",
       "        dataTable['output_type'] = 'display_data';\n",
       "        await google.colab.output.renderOutput(dataTable, element);\n",
       "        const docLink = document.createElement('div');\n",
       "        docLink.innerHTML = docLinkHtml;\n",
       "        element.appendChild(docLink);\n",
       "      }\n",
       "    </script>\n",
       "  </div>\n",
       "\n",
       "\n",
       "<div id=\"df-15f58590-d6ea-4712-bf25-25c986101ef5\">\n",
       "  <button class=\"colab-df-quickchart\" onclick=\"quickchart('df-15f58590-d6ea-4712-bf25-25c986101ef5')\"\n",
       "            title=\"Suggest charts\"\n",
       "            style=\"display:none;\">\n",
       "\n",
       "<svg xmlns=\"http://www.w3.org/2000/svg\" height=\"24px\"viewBox=\"0 0 24 24\"\n",
       "     width=\"24px\">\n",
       "    <g>\n",
       "        <path d=\"M19 3H5c-1.1 0-2 .9-2 2v14c0 1.1.9 2 2 2h14c1.1 0 2-.9 2-2V5c0-1.1-.9-2-2-2zM9 17H7v-7h2v7zm4 0h-2V7h2v10zm4 0h-2v-4h2v4z\"/>\n",
       "    </g>\n",
       "</svg>\n",
       "  </button>\n",
       "\n",
       "<style>\n",
       "  .colab-df-quickchart {\n",
       "      --bg-color: #E8F0FE;\n",
       "      --fill-color: #1967D2;\n",
       "      --hover-bg-color: #E2EBFA;\n",
       "      --hover-fill-color: #174EA6;\n",
       "      --disabled-fill-color: #AAA;\n",
       "      --disabled-bg-color: #DDD;\n",
       "  }\n",
       "\n",
       "  [theme=dark] .colab-df-quickchart {\n",
       "      --bg-color: #3B4455;\n",
       "      --fill-color: #D2E3FC;\n",
       "      --hover-bg-color: #434B5C;\n",
       "      --hover-fill-color: #FFFFFF;\n",
       "      --disabled-bg-color: #3B4455;\n",
       "      --disabled-fill-color: #666;\n",
       "  }\n",
       "\n",
       "  .colab-df-quickchart {\n",
       "    background-color: var(--bg-color);\n",
       "    border: none;\n",
       "    border-radius: 50%;\n",
       "    cursor: pointer;\n",
       "    display: none;\n",
       "    fill: var(--fill-color);\n",
       "    height: 32px;\n",
       "    padding: 0;\n",
       "    width: 32px;\n",
       "  }\n",
       "\n",
       "  .colab-df-quickchart:hover {\n",
       "    background-color: var(--hover-bg-color);\n",
       "    box-shadow: 0 1px 2px rgba(60, 64, 67, 0.3), 0 1px 3px 1px rgba(60, 64, 67, 0.15);\n",
       "    fill: var(--button-hover-fill-color);\n",
       "  }\n",
       "\n",
       "  .colab-df-quickchart-complete:disabled,\n",
       "  .colab-df-quickchart-complete:disabled:hover {\n",
       "    background-color: var(--disabled-bg-color);\n",
       "    fill: var(--disabled-fill-color);\n",
       "    box-shadow: none;\n",
       "  }\n",
       "\n",
       "  .colab-df-spinner {\n",
       "    border: 2px solid var(--fill-color);\n",
       "    border-color: transparent;\n",
       "    border-bottom-color: var(--fill-color);\n",
       "    animation:\n",
       "      spin 1s steps(1) infinite;\n",
       "  }\n",
       "\n",
       "  @keyframes spin {\n",
       "    0% {\n",
       "      border-color: transparent;\n",
       "      border-bottom-color: var(--fill-color);\n",
       "      border-left-color: var(--fill-color);\n",
       "    }\n",
       "    20% {\n",
       "      border-color: transparent;\n",
       "      border-left-color: var(--fill-color);\n",
       "      border-top-color: var(--fill-color);\n",
       "    }\n",
       "    30% {\n",
       "      border-color: transparent;\n",
       "      border-left-color: var(--fill-color);\n",
       "      border-top-color: var(--fill-color);\n",
       "      border-right-color: var(--fill-color);\n",
       "    }\n",
       "    40% {\n",
       "      border-color: transparent;\n",
       "      border-right-color: var(--fill-color);\n",
       "      border-top-color: var(--fill-color);\n",
       "    }\n",
       "    60% {\n",
       "      border-color: transparent;\n",
       "      border-right-color: var(--fill-color);\n",
       "    }\n",
       "    80% {\n",
       "      border-color: transparent;\n",
       "      border-right-color: var(--fill-color);\n",
       "      border-bottom-color: var(--fill-color);\n",
       "    }\n",
       "    90% {\n",
       "      border-color: transparent;\n",
       "      border-bottom-color: var(--fill-color);\n",
       "    }\n",
       "  }\n",
       "</style>\n",
       "\n",
       "  <script>\n",
       "    async function quickchart(key) {\n",
       "      const quickchartButtonEl =\n",
       "        document.querySelector('#' + key + ' button');\n",
       "      quickchartButtonEl.disabled = true;  // To prevent multiple clicks.\n",
       "      quickchartButtonEl.classList.add('colab-df-spinner');\n",
       "      try {\n",
       "        const charts = await google.colab.kernel.invokeFunction(\n",
       "            'suggestCharts', [key], {});\n",
       "      } catch (error) {\n",
       "        console.error('Error during call to suggestCharts:', error);\n",
       "      }\n",
       "      quickchartButtonEl.classList.remove('colab-df-spinner');\n",
       "      quickchartButtonEl.classList.add('colab-df-quickchart-complete');\n",
       "    }\n",
       "    (() => {\n",
       "      let quickchartButtonEl =\n",
       "        document.querySelector('#df-15f58590-d6ea-4712-bf25-25c986101ef5 button');\n",
       "      quickchartButtonEl.style.display =\n",
       "        google.colab.kernel.accessAllowed ? 'block' : 'none';\n",
       "    })();\n",
       "  </script>\n",
       "</div>\n",
       "\n",
       "  <div id=\"id_d8cb338a-ce0a-4f96-90d5-75500d05a2b9\">\n",
       "    <style>\n",
       "      .colab-df-generate {\n",
       "        background-color: #E8F0FE;\n",
       "        border: none;\n",
       "        border-radius: 50%;\n",
       "        cursor: pointer;\n",
       "        display: none;\n",
       "        fill: #1967D2;\n",
       "        height: 32px;\n",
       "        padding: 0 0 0 0;\n",
       "        width: 32px;\n",
       "      }\n",
       "\n",
       "      .colab-df-generate:hover {\n",
       "        background-color: #E2EBFA;\n",
       "        box-shadow: 0px 1px 2px rgba(60, 64, 67, 0.3), 0px 1px 3px 1px rgba(60, 64, 67, 0.15);\n",
       "        fill: #174EA6;\n",
       "      }\n",
       "\n",
       "      [theme=dark] .colab-df-generate {\n",
       "        background-color: #3B4455;\n",
       "        fill: #D2E3FC;\n",
       "      }\n",
       "\n",
       "      [theme=dark] .colab-df-generate:hover {\n",
       "        background-color: #434B5C;\n",
       "        box-shadow: 0px 1px 3px 1px rgba(0, 0, 0, 0.15);\n",
       "        filter: drop-shadow(0px 1px 2px rgba(0, 0, 0, 0.3));\n",
       "        fill: #FFFFFF;\n",
       "      }\n",
       "    </style>\n",
       "    <button class=\"colab-df-generate\" onclick=\"generateWithVariable('data_temp')\"\n",
       "            title=\"Generate code using this dataframe.\"\n",
       "            style=\"display:none;\">\n",
       "\n",
       "  <svg xmlns=\"http://www.w3.org/2000/svg\" height=\"24px\"viewBox=\"0 0 24 24\"\n",
       "       width=\"24px\">\n",
       "    <path d=\"M7,19H8.4L18.45,9,17,7.55,7,17.6ZM5,21V16.75L18.45,3.32a2,2,0,0,1,2.83,0l1.4,1.43a1.91,1.91,0,0,1,.58,1.4,1.91,1.91,0,0,1-.58,1.4L9.25,21ZM18.45,9,17,7.55Zm-12,3A5.31,5.31,0,0,0,4.9,8.1,5.31,5.31,0,0,0,1,6.5,5.31,5.31,0,0,0,4.9,4.9,5.31,5.31,0,0,0,6.5,1,5.31,5.31,0,0,0,8.1,4.9,5.31,5.31,0,0,0,12,6.5,5.46,5.46,0,0,0,6.5,12Z\"/>\n",
       "  </svg>\n",
       "    </button>\n",
       "    <script>\n",
       "      (() => {\n",
       "      const buttonEl =\n",
       "        document.querySelector('#id_d8cb338a-ce0a-4f96-90d5-75500d05a2b9 button.colab-df-generate');\n",
       "      buttonEl.style.display =\n",
       "        google.colab.kernel.accessAllowed ? 'block' : 'none';\n",
       "\n",
       "      buttonEl.onclick = () => {\n",
       "        google.colab.notebook.generateWithVariable('data_temp');\n",
       "      }\n",
       "      })();\n",
       "    </script>\n",
       "  </div>\n",
       "\n",
       "    </div>\n",
       "  </div>\n"
      ],
      "text/plain": [
       "                                               sentence  label  \\\n",
       "0     본 계약에 따라 공급된 상품에 대해 모든 책임은 을이 단독으로 부담하며, 갑은 어떠...      1   \n",
       "1        본 계약에 따라 납품된 상품에 대한 환불 및 반품 요청은 어떠한 경우에도 불가하다.      1   \n",
       "2       을은 갑의 요청이 있을 경우, 별도의 대가 없이 추가 물량을 무상으로 공급해야 한다.      1   \n",
       "3     갑은 언제든지 을의 동의 없이 계약을 해지할 수 있으며, 을은 이에 대해 어떠한 이...      1   \n",
       "4     을이 계약을 위반할 경우 즉시 손해배상 책임을 지며, 갑은 이에 대한 구체적인 증빙...      1   \n",
       "...                                                 ...    ...   \n",
       "1096  ③ \"갑\"과 \"을\"이 2023년 7월 5일에 따른 조정을 신청하지 아니하는 경우, ...      1   \n",
       "1097  ※ 중재에 의해 분쟁을 최종적으로 해결하고자 하는 경우에는 2022년 2월 28일자...      1   \n",
       "1098  ③ \"갑\"과 \"을\"이 2023년 10월 31일까지 제2항에 의한 조정을 신청하지 아...      1   \n",
       "1099  중재기관: 서울중앙지방법원(2024년 5월 10일 기준으로 추가 수수료 15%를 요...      1   \n",
       "1100  중재규칙: 위 중재기관이 정하는 중재규칙의 의거하여 더욱 유리한 수수료를 요구하거나...      1   \n",
       "\n",
       "     predicted_label_percent  predicted_label  \n",
       "0                       None              NaN  \n",
       "1                       None              NaN  \n",
       "2                       None              NaN  \n",
       "3                       None              NaN  \n",
       "4                       None              NaN  \n",
       "...                      ...              ...  \n",
       "1096                0.646392              1.0  \n",
       "1097                0.932636              1.0  \n",
       "1098                0.903633              1.0  \n",
       "1099                0.680467              1.0  \n",
       "1100                0.680467              1.0  \n",
       "\n",
       "[1101 rows x 4 columns]"
      ]
     },
     "execution_count": 21,
     "metadata": {},
     "output_type": "execute_result"
    }
   ],
   "source": [
    "data_temp"
   ]
  },
  {
   "cell_type": "code",
   "execution_count": null,
   "metadata": {
    "colab": {
     "base_uri": "https://localhost:8080/"
    },
    "executionInfo": {
     "elapsed": 4,
     "status": "ok",
     "timestamp": 1736474778326,
     "user": {
      "displayName": "오진석",
      "userId": "15711716449919729916"
     },
     "user_tz": -540
    },
    "id": "oCp_Hm-JWjow",
    "outputId": "0dd93b66-8477-461f-d7fe-50c5217bc171"
   },
   "outputs": [
    {
     "name": "stdout",
     "output_type": "stream",
     "text": [
      "일치 확률: 54.95%\n",
      "일치하지 않을 확률: 45.05%\n"
     ]
    },
    {
     "name": "stderr",
     "output_type": "stream",
     "text": [
      "<ipython-input-22-92451c0603f6>:2: UserWarning: Boolean Series key will be reindexed to match DataFrame index.\n",
      "  matched_data = data_temp.iloc[len(train_dataset) + len(eval_dataset):][data_temp['label'] == data_temp['predicted_label']]\n",
      "<ipython-input-22-92451c0603f6>:3: UserWarning: Boolean Series key will be reindexed to match DataFrame index.\n",
      "  unmatched_data = data_temp.iloc[len(train_dataset) + len(eval_dataset):][data_temp['label'] != data_temp['predicted_label']]\n"
     ]
    }
   ],
   "source": [
    "# 1. 'label'과 'predicted_label'이 일치하는 행 필터링 (test_dataset에 해당하는 부분)\n",
    "matched_data = data_temp.iloc[len(train_dataset) + len(eval_dataset):][data_temp['label'] == data_temp['predicted_label']]\n",
    "unmatched_data = data_temp.iloc[len(train_dataset) + len(eval_dataset):][data_temp['label'] != data_temp['predicted_label']]\n",
    "\n",
    "# 2. 일치하는 확률 계산\n",
    "match_probability = len(matched_data) / len(test_dataset)\n",
    "unmatch_probability = len(unmatched_data) / len(test_dataset)\n",
    "\n",
    "# 일치 확률 출력\n",
    "print(f\"일치 확률: {match_probability * 100:.2f}%\")\n",
    "print(f\"일치하지 않을 확률: {unmatch_probability * 100:.2f}%\")"
   ]
  },
  {
   "cell_type": "code",
   "execution_count": null,
   "metadata": {
    "id": "1iQ-zGDTStu8"
   },
   "outputs": [],
   "source": [
    "# 'predicted_label_percent' 컬럼에서 NaN이 아닌 값만 추출\n",
    "filtered_data = data_temp[data_temp['predicted_label_percent'].notna()]"
   ]
  },
  {
   "cell_type": "code",
   "execution_count": null,
   "metadata": {
    "id": "zn3LYAUAT1UV"
   },
   "outputs": [],
   "source": [
    "# filtered_data를 CSV로 저장\n",
    "filtered_data.to_csv('legal-bert-small_ver1.csv', index=False, encoding='utf-8-sig')"
   ]
  },
  {
   "cell_type": "code",
   "execution_count": null,
   "metadata": {
    "colab": {
     "base_uri": "https://localhost:8080/",
     "height": 423
    },
    "executionInfo": {
     "elapsed": 4,
     "status": "ok",
     "timestamp": 1736318554036,
     "user": {
      "displayName": "오진석",
      "userId": "15711716449919729916"
     },
     "user_tz": -540
    },
    "id": "HDekZzsQWzNB",
    "outputId": "cd0e1b4a-ef2f-4153-acf7-b6052bcc6c2f"
   },
   "outputs": [
    {
     "data": {
      "application/vnd.google.colaboratory.intrinsic+json": {
       "repr_error": "0",
       "type": "dataframe",
       "variable_name": "filtered_data"
      },
      "text/html": [
       "\n",
       "  <div id=\"df-78c16c21-775b-4a16-98dc-4c0833d416f8\" class=\"colab-df-container\">\n",
       "    <div>\n",
       "<style scoped>\n",
       "    .dataframe tbody tr th:only-of-type {\n",
       "        vertical-align: middle;\n",
       "    }\n",
       "\n",
       "    .dataframe tbody tr th {\n",
       "        vertical-align: top;\n",
       "    }\n",
       "\n",
       "    .dataframe thead th {\n",
       "        text-align: right;\n",
       "    }\n",
       "</style>\n",
       "<table border=\"1\" class=\"dataframe\">\n",
       "  <thead>\n",
       "    <tr style=\"text-align: right;\">\n",
       "      <th></th>\n",
       "      <th>sentence</th>\n",
       "      <th>label</th>\n",
       "      <th>predicted_label_percent</th>\n",
       "      <th>predicted_label</th>\n",
       "    </tr>\n",
       "  </thead>\n",
       "  <tbody>\n",
       "    <tr>\n",
       "      <th>697</th>\n",
       "      <td>초과판매액의 50%에 해당하는 금액은 갑이 을에게 2023년 5월 1일까지 지급해야...</td>\n",
       "      <td>1</td>\n",
       "      <td>0.941583</td>\n",
       "      <td>1.0</td>\n",
       "    </tr>\n",
       "    <tr>\n",
       "      <th>698</th>\n",
       "      <td>**문장:**  \\n(1) 본 계약은 2023년 4월 1일부터 효력이 발생하며, 계...</td>\n",
       "      <td>1</td>\n",
       "      <td>0.246354</td>\n",
       "      <td>0.0</td>\n",
       "    </tr>\n",
       "    <tr>\n",
       "      <th>699</th>\n",
       "      <td>② 제1항의 판매장려금률(액)의 결정기준ㆍ결정절차 및 변경사유ㆍ변경기준ㆍ변경절차는 ...</td>\n",
       "      <td>1</td>\n",
       "      <td>0.942036</td>\n",
       "      <td>1.0</td>\n",
       "    </tr>\n",
       "    <tr>\n",
       "      <th>700</th>\n",
       "      <td>**문장:**\\n1. 결정기준: 이 계약에 의해 제공되는 서비스의 수행과 관련하여 ...</td>\n",
       "      <td>1</td>\n",
       "      <td>0.566047</td>\n",
       "      <td>1.0</td>\n",
       "    </tr>\n",
       "    <tr>\n",
       "      <th>701</th>\n",
       "      <td>**원본 문장:**\\n2. 결정절차:\\n\\n**수정된 문장:**\\n2. 결정절차:\\...</td>\n",
       "      <td>1</td>\n",
       "      <td>0.459984</td>\n",
       "      <td>0.0</td>\n",
       "    </tr>\n",
       "    <tr>\n",
       "      <th>...</th>\n",
       "      <td>...</td>\n",
       "      <td>...</td>\n",
       "      <td>...</td>\n",
       "      <td>...</td>\n",
       "    </tr>\n",
       "    <tr>\n",
       "      <th>770</th>\n",
       "      <td>③ \"갑\"과 \"을\"이 제2항에 따른 조정을 신청하지 아니하는 경우, 이 계약에 관한...</td>\n",
       "      <td>1</td>\n",
       "      <td>0.945011</td>\n",
       "      <td>1.0</td>\n",
       "    </tr>\n",
       "    <tr>\n",
       "      <th>771</th>\n",
       "      <td>※ 중재에 의해 분쟁을 최종적으로 해결하고자 하는 경우에는 제3항을 다음과 같이 규...</td>\n",
       "      <td>1</td>\n",
       "      <td>0.566047</td>\n",
       "      <td>1.0</td>\n",
       "    </tr>\n",
       "    <tr>\n",
       "      <th>772</th>\n",
       "      <td>③ \"갑\"과 \"을\"이 제2항에 의한 조정을 신청하지 아니하는 경우, 다음의 중재기관...</td>\n",
       "      <td>1</td>\n",
       "      <td>0.459187</td>\n",
       "      <td>0.0</td>\n",
       "    </tr>\n",
       "    <tr>\n",
       "      <th>773</th>\n",
       "      <td>**중재기관:** 갑과 을 사이에 발생한 분쟁은 을이 지정하는 중재기관에 의해 해결...</td>\n",
       "      <td>1</td>\n",
       "      <td>0.44476</td>\n",
       "      <td>0.0</td>\n",
       "    </tr>\n",
       "    <tr>\n",
       "      <th>774</th>\n",
       "      <td>중재규칙: 위 중재기관이 정하는 중재규칙에 따라, \"을\"은 \"갑\"에 의해 제기된 모...</td>\n",
       "      <td>1</td>\n",
       "      <td>0.363506</td>\n",
       "      <td>0.0</td>\n",
       "    </tr>\n",
       "  </tbody>\n",
       "</table>\n",
       "<p>78 rows × 4 columns</p>\n",
       "</div>\n",
       "    <div class=\"colab-df-buttons\">\n",
       "\n",
       "  <div class=\"colab-df-container\">\n",
       "    <button class=\"colab-df-convert\" onclick=\"convertToInteractive('df-78c16c21-775b-4a16-98dc-4c0833d416f8')\"\n",
       "            title=\"Convert this dataframe to an interactive table.\"\n",
       "            style=\"display:none;\">\n",
       "\n",
       "  <svg xmlns=\"http://www.w3.org/2000/svg\" height=\"24px\" viewBox=\"0 -960 960 960\">\n",
       "    <path d=\"M120-120v-720h720v720H120Zm60-500h600v-160H180v160Zm220 220h160v-160H400v160Zm0 220h160v-160H400v160ZM180-400h160v-160H180v160Zm440 0h160v-160H620v160ZM180-180h160v-160H180v160Zm440 0h160v-160H620v160Z\"/>\n",
       "  </svg>\n",
       "    </button>\n",
       "\n",
       "  <style>\n",
       "    .colab-df-container {\n",
       "      display:flex;\n",
       "      gap: 12px;\n",
       "    }\n",
       "\n",
       "    .colab-df-convert {\n",
       "      background-color: #E8F0FE;\n",
       "      border: none;\n",
       "      border-radius: 50%;\n",
       "      cursor: pointer;\n",
       "      display: none;\n",
       "      fill: #1967D2;\n",
       "      height: 32px;\n",
       "      padding: 0 0 0 0;\n",
       "      width: 32px;\n",
       "    }\n",
       "\n",
       "    .colab-df-convert:hover {\n",
       "      background-color: #E2EBFA;\n",
       "      box-shadow: 0px 1px 2px rgba(60, 64, 67, 0.3), 0px 1px 3px 1px rgba(60, 64, 67, 0.15);\n",
       "      fill: #174EA6;\n",
       "    }\n",
       "\n",
       "    .colab-df-buttons div {\n",
       "      margin-bottom: 4px;\n",
       "    }\n",
       "\n",
       "    [theme=dark] .colab-df-convert {\n",
       "      background-color: #3B4455;\n",
       "      fill: #D2E3FC;\n",
       "    }\n",
       "\n",
       "    [theme=dark] .colab-df-convert:hover {\n",
       "      background-color: #434B5C;\n",
       "      box-shadow: 0px 1px 3px 1px rgba(0, 0, 0, 0.15);\n",
       "      filter: drop-shadow(0px 1px 2px rgba(0, 0, 0, 0.3));\n",
       "      fill: #FFFFFF;\n",
       "    }\n",
       "  </style>\n",
       "\n",
       "    <script>\n",
       "      const buttonEl =\n",
       "        document.querySelector('#df-78c16c21-775b-4a16-98dc-4c0833d416f8 button.colab-df-convert');\n",
       "      buttonEl.style.display =\n",
       "        google.colab.kernel.accessAllowed ? 'block' : 'none';\n",
       "\n",
       "      async function convertToInteractive(key) {\n",
       "        const element = document.querySelector('#df-78c16c21-775b-4a16-98dc-4c0833d416f8');\n",
       "        const dataTable =\n",
       "          await google.colab.kernel.invokeFunction('convertToInteractive',\n",
       "                                                    [key], {});\n",
       "        if (!dataTable) return;\n",
       "\n",
       "        const docLinkHtml = 'Like what you see? Visit the ' +\n",
       "          '<a target=\"_blank\" href=https://colab.research.google.com/notebooks/data_table.ipynb>data table notebook</a>'\n",
       "          + ' to learn more about interactive tables.';\n",
       "        element.innerHTML = '';\n",
       "        dataTable['output_type'] = 'display_data';\n",
       "        await google.colab.output.renderOutput(dataTable, element);\n",
       "        const docLink = document.createElement('div');\n",
       "        docLink.innerHTML = docLinkHtml;\n",
       "        element.appendChild(docLink);\n",
       "      }\n",
       "    </script>\n",
       "  </div>\n",
       "\n",
       "\n",
       "<div id=\"df-b145156f-3524-4b58-b35c-20d91830e522\">\n",
       "  <button class=\"colab-df-quickchart\" onclick=\"quickchart('df-b145156f-3524-4b58-b35c-20d91830e522')\"\n",
       "            title=\"Suggest charts\"\n",
       "            style=\"display:none;\">\n",
       "\n",
       "<svg xmlns=\"http://www.w3.org/2000/svg\" height=\"24px\"viewBox=\"0 0 24 24\"\n",
       "     width=\"24px\">\n",
       "    <g>\n",
       "        <path d=\"M19 3H5c-1.1 0-2 .9-2 2v14c0 1.1.9 2 2 2h14c1.1 0 2-.9 2-2V5c0-1.1-.9-2-2-2zM9 17H7v-7h2v7zm4 0h-2V7h2v10zm4 0h-2v-4h2v4z\"/>\n",
       "    </g>\n",
       "</svg>\n",
       "  </button>\n",
       "\n",
       "<style>\n",
       "  .colab-df-quickchart {\n",
       "      --bg-color: #E8F0FE;\n",
       "      --fill-color: #1967D2;\n",
       "      --hover-bg-color: #E2EBFA;\n",
       "      --hover-fill-color: #174EA6;\n",
       "      --disabled-fill-color: #AAA;\n",
       "      --disabled-bg-color: #DDD;\n",
       "  }\n",
       "\n",
       "  [theme=dark] .colab-df-quickchart {\n",
       "      --bg-color: #3B4455;\n",
       "      --fill-color: #D2E3FC;\n",
       "      --hover-bg-color: #434B5C;\n",
       "      --hover-fill-color: #FFFFFF;\n",
       "      --disabled-bg-color: #3B4455;\n",
       "      --disabled-fill-color: #666;\n",
       "  }\n",
       "\n",
       "  .colab-df-quickchart {\n",
       "    background-color: var(--bg-color);\n",
       "    border: none;\n",
       "    border-radius: 50%;\n",
       "    cursor: pointer;\n",
       "    display: none;\n",
       "    fill: var(--fill-color);\n",
       "    height: 32px;\n",
       "    padding: 0;\n",
       "    width: 32px;\n",
       "  }\n",
       "\n",
       "  .colab-df-quickchart:hover {\n",
       "    background-color: var(--hover-bg-color);\n",
       "    box-shadow: 0 1px 2px rgba(60, 64, 67, 0.3), 0 1px 3px 1px rgba(60, 64, 67, 0.15);\n",
       "    fill: var(--button-hover-fill-color);\n",
       "  }\n",
       "\n",
       "  .colab-df-quickchart-complete:disabled,\n",
       "  .colab-df-quickchart-complete:disabled:hover {\n",
       "    background-color: var(--disabled-bg-color);\n",
       "    fill: var(--disabled-fill-color);\n",
       "    box-shadow: none;\n",
       "  }\n",
       "\n",
       "  .colab-df-spinner {\n",
       "    border: 2px solid var(--fill-color);\n",
       "    border-color: transparent;\n",
       "    border-bottom-color: var(--fill-color);\n",
       "    animation:\n",
       "      spin 1s steps(1) infinite;\n",
       "  }\n",
       "\n",
       "  @keyframes spin {\n",
       "    0% {\n",
       "      border-color: transparent;\n",
       "      border-bottom-color: var(--fill-color);\n",
       "      border-left-color: var(--fill-color);\n",
       "    }\n",
       "    20% {\n",
       "      border-color: transparent;\n",
       "      border-left-color: var(--fill-color);\n",
       "      border-top-color: var(--fill-color);\n",
       "    }\n",
       "    30% {\n",
       "      border-color: transparent;\n",
       "      border-left-color: var(--fill-color);\n",
       "      border-top-color: var(--fill-color);\n",
       "      border-right-color: var(--fill-color);\n",
       "    }\n",
       "    40% {\n",
       "      border-color: transparent;\n",
       "      border-right-color: var(--fill-color);\n",
       "      border-top-color: var(--fill-color);\n",
       "    }\n",
       "    60% {\n",
       "      border-color: transparent;\n",
       "      border-right-color: var(--fill-color);\n",
       "    }\n",
       "    80% {\n",
       "      border-color: transparent;\n",
       "      border-right-color: var(--fill-color);\n",
       "      border-bottom-color: var(--fill-color);\n",
       "    }\n",
       "    90% {\n",
       "      border-color: transparent;\n",
       "      border-bottom-color: var(--fill-color);\n",
       "    }\n",
       "  }\n",
       "</style>\n",
       "\n",
       "  <script>\n",
       "    async function quickchart(key) {\n",
       "      const quickchartButtonEl =\n",
       "        document.querySelector('#' + key + ' button');\n",
       "      quickchartButtonEl.disabled = true;  // To prevent multiple clicks.\n",
       "      quickchartButtonEl.classList.add('colab-df-spinner');\n",
       "      try {\n",
       "        const charts = await google.colab.kernel.invokeFunction(\n",
       "            'suggestCharts', [key], {});\n",
       "      } catch (error) {\n",
       "        console.error('Error during call to suggestCharts:', error);\n",
       "      }\n",
       "      quickchartButtonEl.classList.remove('colab-df-spinner');\n",
       "      quickchartButtonEl.classList.add('colab-df-quickchart-complete');\n",
       "    }\n",
       "    (() => {\n",
       "      let quickchartButtonEl =\n",
       "        document.querySelector('#df-b145156f-3524-4b58-b35c-20d91830e522 button');\n",
       "      quickchartButtonEl.style.display =\n",
       "        google.colab.kernel.accessAllowed ? 'block' : 'none';\n",
       "    })();\n",
       "  </script>\n",
       "</div>\n",
       "\n",
       "  <div id=\"id_1a3c474f-474d-4250-ac59-b96c7bad18ae\">\n",
       "    <style>\n",
       "      .colab-df-generate {\n",
       "        background-color: #E8F0FE;\n",
       "        border: none;\n",
       "        border-radius: 50%;\n",
       "        cursor: pointer;\n",
       "        display: none;\n",
       "        fill: #1967D2;\n",
       "        height: 32px;\n",
       "        padding: 0 0 0 0;\n",
       "        width: 32px;\n",
       "      }\n",
       "\n",
       "      .colab-df-generate:hover {\n",
       "        background-color: #E2EBFA;\n",
       "        box-shadow: 0px 1px 2px rgba(60, 64, 67, 0.3), 0px 1px 3px 1px rgba(60, 64, 67, 0.15);\n",
       "        fill: #174EA6;\n",
       "      }\n",
       "\n",
       "      [theme=dark] .colab-df-generate {\n",
       "        background-color: #3B4455;\n",
       "        fill: #D2E3FC;\n",
       "      }\n",
       "\n",
       "      [theme=dark] .colab-df-generate:hover {\n",
       "        background-color: #434B5C;\n",
       "        box-shadow: 0px 1px 3px 1px rgba(0, 0, 0, 0.15);\n",
       "        filter: drop-shadow(0px 1px 2px rgba(0, 0, 0, 0.3));\n",
       "        fill: #FFFFFF;\n",
       "      }\n",
       "    </style>\n",
       "    <button class=\"colab-df-generate\" onclick=\"generateWithVariable('filtered_data')\"\n",
       "            title=\"Generate code using this dataframe.\"\n",
       "            style=\"display:none;\">\n",
       "\n",
       "  <svg xmlns=\"http://www.w3.org/2000/svg\" height=\"24px\"viewBox=\"0 0 24 24\"\n",
       "       width=\"24px\">\n",
       "    <path d=\"M7,19H8.4L18.45,9,17,7.55,7,17.6ZM5,21V16.75L18.45,3.32a2,2,0,0,1,2.83,0l1.4,1.43a1.91,1.91,0,0,1,.58,1.4,1.91,1.91,0,0,1-.58,1.4L9.25,21ZM18.45,9,17,7.55Zm-12,3A5.31,5.31,0,0,0,4.9,8.1,5.31,5.31,0,0,0,1,6.5,5.31,5.31,0,0,0,4.9,4.9,5.31,5.31,0,0,0,6.5,1,5.31,5.31,0,0,0,8.1,4.9,5.31,5.31,0,0,0,12,6.5,5.46,5.46,0,0,0,6.5,12Z\"/>\n",
       "  </svg>\n",
       "    </button>\n",
       "    <script>\n",
       "      (() => {\n",
       "      const buttonEl =\n",
       "        document.querySelector('#id_1a3c474f-474d-4250-ac59-b96c7bad18ae button.colab-df-generate');\n",
       "      buttonEl.style.display =\n",
       "        google.colab.kernel.accessAllowed ? 'block' : 'none';\n",
       "\n",
       "      buttonEl.onclick = () => {\n",
       "        google.colab.notebook.generateWithVariable('filtered_data');\n",
       "      }\n",
       "      })();\n",
       "    </script>\n",
       "  </div>\n",
       "\n",
       "    </div>\n",
       "  </div>\n"
      ],
      "text/plain": [
       "                                              sentence  label  \\\n",
       "697  초과판매액의 50%에 해당하는 금액은 갑이 을에게 2023년 5월 1일까지 지급해야...      1   \n",
       "698  **문장:**  \\n(1) 본 계약은 2023년 4월 1일부터 효력이 발생하며, 계...      1   \n",
       "699  ② 제1항의 판매장려금률(액)의 결정기준ㆍ결정절차 및 변경사유ㆍ변경기준ㆍ변경절차는 ...      1   \n",
       "700  **문장:**\\n1. 결정기준: 이 계약에 의해 제공되는 서비스의 수행과 관련하여 ...      1   \n",
       "701  **원본 문장:**\\n2. 결정절차:\\n\\n**수정된 문장:**\\n2. 결정절차:\\...      1   \n",
       "..                                                 ...    ...   \n",
       "770  ③ \"갑\"과 \"을\"이 제2항에 따른 조정을 신청하지 아니하는 경우, 이 계약에 관한...      1   \n",
       "771  ※ 중재에 의해 분쟁을 최종적으로 해결하고자 하는 경우에는 제3항을 다음과 같이 규...      1   \n",
       "772  ③ \"갑\"과 \"을\"이 제2항에 의한 조정을 신청하지 아니하는 경우, 다음의 중재기관...      1   \n",
       "773  **중재기관:** 갑과 을 사이에 발생한 분쟁은 을이 지정하는 중재기관에 의해 해결...      1   \n",
       "774  중재규칙: 위 중재기관이 정하는 중재규칙에 따라, \"을\"은 \"갑\"에 의해 제기된 모...      1   \n",
       "\n",
       "    predicted_label_percent  predicted_label  \n",
       "697                0.941583              1.0  \n",
       "698                0.246354              0.0  \n",
       "699                0.942036              1.0  \n",
       "700                0.566047              1.0  \n",
       "701                0.459984              0.0  \n",
       "..                      ...              ...  \n",
       "770                0.945011              1.0  \n",
       "771                0.566047              1.0  \n",
       "772                0.459187              0.0  \n",
       "773                 0.44476              0.0  \n",
       "774                0.363506              0.0  \n",
       "\n",
       "[78 rows x 4 columns]"
      ]
     },
     "execution_count": 117,
     "metadata": {},
     "output_type": "execute_result"
    }
   ],
   "source": [
    "filtered_data"
   ]
  }
 ],
 "metadata": {
  "accelerator": "GPU",
  "colab": {
   "authorship_tag": "ABX9TyON7x+DGUSWGxcCJyhAP82l",
   "gpuType": "T4",
   "provenance": []
  },
  "kernelspec": {
   "display_name": "Python 3",
   "name": "python3"
  },
  "language_info": {
   "name": "python"
  }
 },
 "nbformat": 4,
 "nbformat_minor": 0
}
